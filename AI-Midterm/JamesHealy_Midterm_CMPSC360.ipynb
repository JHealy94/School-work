{
 "cells": [
  {
   "cell_type": "code",
   "execution_count": 110,
   "metadata": {},
   "outputs": [
    {
     "name": "stdout",
     "output_type": "stream",
     "text": [
      "row count  10\n",
      "The index of the three closest neighbors to the position of [66, Married, 36120.34] is:\n",
      "[[9 5 2]]\n"
     ]
    }
   ],
   "source": [
    "#Purpose: building a classifier for finding the nearest neighbors\n",
    "#James Healy\n",
    "#AI midterm\n",
    "#March 28, 2019\n",
    "#The three closest neighbors to record #10 are the index positions of [9, 5, 2]\n",
    "\n",
    "import csv\n",
    "from sklearn.neighbors import NearestNeighbors\n",
    "\n",
    "nearest=NearestNeighbors()\n",
    "file_name = \"midterm_SP2019.csv\"\n",
    "data = []\n",
    "\n",
    "with open(file_name) as csv_file:\n",
    "    dataReader=csv.reader(csv_file, delimiter=\",\")\n",
    "    row_count=0\n",
    "    for r in dataReader:\n",
    "        #if row isnt blank on the csv sheet the program will increment the row counter and create a new row item\n",
    "        #to add to the data sheet\n",
    "        if r:\n",
    "            row_count=row_count+1\n",
    "            row=[]\n",
    "            row.append(float(r[1]))\n",
    "            #else-if statements to go see what value is stored in the row that informs if a person is married or not\n",
    "            if(r[2]==' Single'):\n",
    "                row.append(0)\n",
    "            elif(r[2]==' Married'):\n",
    "                row.append(1)\n",
    "            elif(r[2]==' Other'):\n",
    "                row.append(2)\n",
    "            row.append(float(r[3]))\n",
    "            data.append(row)\n",
    "nearest.fit(data)\n",
    "print (\"row count \", row_count)\n",
    "print(\"The index of the three closest neighbors to the position of [66, Married, 36120.34] is:\")\n",
    "print(nearest.kneighbors([data[9]],3,return_distance=False))"
   ]
  },
  {
   "cell_type": "code",
   "execution_count": null,
   "metadata": {},
   "outputs": [],
   "source": []
  },
  {
   "cell_type": "code",
   "execution_count": null,
   "metadata": {},
   "outputs": [],
   "source": []
  },
  {
   "cell_type": "code",
   "execution_count": null,
   "metadata": {},
   "outputs": [],
   "source": []
  }
 ],
 "metadata": {
  "kernelspec": {
   "display_name": "Python 3",
   "language": "python",
   "name": "python3"
  },
  "language_info": {
   "codemirror_mode": {
    "name": "ipython",
    "version": 3
   },
   "file_extension": ".py",
   "mimetype": "text/x-python",
   "name": "python",
   "nbconvert_exporter": "python",
   "pygments_lexer": "ipython3",
   "version": "3.7.2"
  }
 },
 "nbformat": 4,
 "nbformat_minor": 2
}
